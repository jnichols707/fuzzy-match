{
 "cells": [
  {
   "cell_type": "code",
   "execution_count": 23,
   "id": "c277641c",
   "metadata": {},
   "outputs": [
    {
     "name": "stderr",
     "output_type": "stream",
     "text": [
      "/Users/jnichols/opt/anaconda3/lib/python3.9/site-packages/pandas/io/sql.py:761: UserWarning: pandas only support SQLAlchemy connectable(engine/connection) ordatabase string URI or sqlite3 DBAPI2 connectionother DBAPI2 objects are not tested, please consider using SQLAlchemy\n",
      "  warnings.warn(\n"
     ]
    }
   ],
   "source": [
    "from thefuzz import fuzz, process\n",
    "import pandas as pd\n",
    "\n",
    "#import function to query mysql server\n",
    "import Functions.datamart_query as q\n",
    "\n",
    "#pull in account data from SQL file based on region\n",
    "with open(f'/Users/jnichols/Python Files/Fuzzy Match/Queries/Ireland.sql', 'r') as myfile:\n",
    "    query=myfile.read().replace('\\n', ' ')\n",
    "# Store query results in accounts df.\n",
    "db = q.run_query(query, database='Production')\n",
    "\n",
    "m = pd.read_excel(f'/Users/jnichols/Python Files/Fuzzy Match/IrelandMissingAcctsV2.xlsx') \n",
    "\n"
   ]
  },
  {
   "cell_type": "code",
   "execution_count": 24,
   "id": "6f987d19",
   "metadata": {},
   "outputs": [
    {
     "name": "stdout",
     "output_type": "stream",
     "text": [
      "                                           MatchName MatchScore\n",
      "0                                   NOA NEWS LIMITED         55\n",
      "1                  Three Ireland (Hutchison) Limited        100\n",
      "2                                   Allcare Pharmacy         69\n",
      "3                                            Empower         40\n",
      "4                                     Dublin Unified         64\n",
      "..                                               ...        ...\n",
      "236  Galway / Roscommon Education and Training Board         59\n",
      "237                Waterford Institute of Technology        100\n",
      "238                                WATERWAYS IRELAND        100\n",
      "239               NORTHERN IRELAND SCREEN COMMISSION         66\n",
      "240                             BAXTER HEALTHCARE SA         53\n",
      "\n",
      "[241 rows x 2 columns]\n"
     ]
    }
   ],
   "source": [
    "matches = pd.DataFrame(columns = ['MatchName', 'MatchScore'])\n",
    "for i in range(len(m)):\n",
    "    acc = m.at[i,'AccountName']\n",
    "    match = db['AccountName']\n",
    "    tup = process.extractOne(acc, match, scorer = fuzz.token_sort_ratio)\n",
    "    a, b, c = tup\n",
    "    matches.at[i,'MatchName'] = a\n",
    "    matches.at[i,'MatchScore'] = b\n",
    "\n",
    "print(matches)\n"
   ]
  },
  {
   "cell_type": "code",
   "execution_count": 25,
   "id": "b513ff56",
   "metadata": {},
   "outputs": [],
   "source": [
    "accounts_with_matches = pd.merge(m, matches, how='left', left_index=True, right_index=True)"
   ]
  },
  {
   "cell_type": "code",
   "execution_count": 27,
   "id": "9e7084d2",
   "metadata": {},
   "outputs": [],
   "source": [
    "accounts_with_matches = pd.merge(accounts_with_matches, db, how = 'left', left_on = 'MatchName', right_on = 'AccountName')"
   ]
  },
  {
   "cell_type": "code",
   "execution_count": 28,
   "id": "7105d1dc",
   "metadata": {},
   "outputs": [
    {
     "name": "stdout",
     "output_type": "stream",
     "text": [
      "                                         AccountName_x  \\\n",
      "0                                        Bidest Noonan   \n",
      "1                    Three Ireland (Hutchison) Limited   \n",
      "2                                     Lloylds Pharmacy   \n",
      "3                                                 PWC    \n",
      "4                                          United Drug   \n",
      "..                                                 ...   \n",
      "236  Waterford and Wexford Education and Training B...   \n",
      "237                  Waterford Institute of Technology   \n",
      "238                                  Waterways Ireland   \n",
      "239                     Workplace Relations Commission   \n",
      "240                               Údarás na Gaeltachta   \n",
      "\n",
      "                                           MatchName MatchScore  \\\n",
      "0                                   NOA NEWS LIMITED         55   \n",
      "1                  Three Ireland (Hutchison) Limited        100   \n",
      "2                                   Allcare Pharmacy         69   \n",
      "3                                            Empower         40   \n",
      "4                                     Dublin Unified         64   \n",
      "..                                               ...        ...   \n",
      "236  Galway / Roscommon Education and Training Board         59   \n",
      "237                Waterford Institute of Technology        100   \n",
      "238                                WATERWAYS IRELAND        100   \n",
      "239               NORTHERN IRELAND SCREEN COMMISSION         66   \n",
      "240                             BAXTER HEALTHCARE SA         53   \n",
      "\n",
      "    DeploymentAccountID           AccountID  \\\n",
      "0    001500000184qDIAAY  001500000184qDIAAY   \n",
      "1    0015000000qG2wOAAS  0015000000qG2wOAAS   \n",
      "2    0015000001J5LhHAAV  0015000001J5LhHAAV   \n",
      "3    0012J00002Q3V0sQAF  0012J00002Q3V0sQAF   \n",
      "4    0015000001YBYNLAA5  0015000001YBYNLAA5   \n",
      "..                  ...                 ...   \n",
      "236  0012J00002QkYp7QAF  0012J00002QkYp7QAF   \n",
      "237  0015000000pjgcuAAA  0015000000pjgcuAAA   \n",
      "238  0015000001NXEGuAAP  0015000001NXEGuAAP   \n",
      "239  001500000133JjcAAE  001500000133JjcAAE   \n",
      "240  001500000133CG5AAM  001500000133CG5AAM   \n",
      "\n",
      "                                       AccountName_y  \n",
      "0                                   NOA NEWS LIMITED  \n",
      "1                  Three Ireland (Hutchison) Limited  \n",
      "2                                   Allcare Pharmacy  \n",
      "3                                            Empower  \n",
      "4                                     Dublin Unified  \n",
      "..                                               ...  \n",
      "236  Galway / Roscommon Education and Training Board  \n",
      "237                Waterford Institute of Technology  \n",
      "238                                WATERWAYS IRELAND  \n",
      "239               NORTHERN IRELAND SCREEN COMMISSION  \n",
      "240                             BAXTER HEALTHCARE SA  \n",
      "\n",
      "[241 rows x 6 columns]\n"
     ]
    }
   ],
   "source": [
    "print(accounts_with_matches)"
   ]
  },
  {
   "cell_type": "code",
   "execution_count": 29,
   "id": "bac7a127",
   "metadata": {},
   "outputs": [],
   "source": [
    "accounts_with_matches.to_csv('AccountsWithMatches.csv')"
   ]
  },
  {
   "cell_type": "code",
   "execution_count": null,
   "id": "1897cc36",
   "metadata": {},
   "outputs": [],
   "source": []
  }
 ],
 "metadata": {
  "kernelspec": {
   "display_name": "Python 3 (ipykernel)",
   "language": "python",
   "name": "python3"
  },
  "language_info": {
   "codemirror_mode": {
    "name": "ipython",
    "version": 3
   },
   "file_extension": ".py",
   "mimetype": "text/x-python",
   "name": "python",
   "nbconvert_exporter": "python",
   "pygments_lexer": "ipython3",
   "version": "3.9.7"
  }
 },
 "nbformat": 4,
 "nbformat_minor": 5
}
